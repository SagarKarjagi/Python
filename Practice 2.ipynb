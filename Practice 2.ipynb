{
 "cells": [
  {
   "cell_type": "code",
   "execution_count": 11,
   "id": "c880a02f-fa01-44ff-86ba-9311d3a662ce",
   "metadata": {},
   "outputs": [
    {
     "name": "stdin",
     "output_type": "stream",
     "text": [
      " 15\n",
      " 7 6 11 8\n"
     ]
    },
    {
     "name": "stdout",
     "output_type": "stream",
     "text": [
      "Indices of the two numbers: 0, 3\n"
     ]
    }
   ],
   "source": [
    "import re\n",
    "\n",
    "def main():\n",
    "    # Taking input\n",
    "    k = int(input())\n",
    "    \n",
    "    # Reading the entire line as a single string\n",
    "    line = input()\n",
    "    \n",
    "    # Splitting the input string by spaces to get individual elements\n",
    "    elements = line.split()\n",
    "    \n",
    "    # Converting string elements to integers and storing in a list\n",
    "    arr = [int(element) for element in elements]\n",
    "\n",
    "    result = two_sum(arr, k)\n",
    "    if result:\n",
    "        print(f\"Indices of the two numbers: {result[0]}, {result[1]}\")\n",
    "    else:\n",
    "        print(\"No two numbers found with the given sum.\")\n",
    "\n",
    "def two_sum(arr, target):\n",
    "    # Dictionary to store the potential match and its index\n",
    "    seen = {}\n",
    "    \n",
    "    for i, num in enumerate(arr):\n",
    "        difference = target - num\n",
    "        if difference in seen:\n",
    "            return [seen[difference], i]\n",
    "        seen[num] = i\n",
    "    \n",
    "    return None\n",
    "\n",
    "# Running the main function\n",
    "if __name__ == \"__main__\":\n",
    "    main()\n"
   ]
  },
  {
   "cell_type": "code",
   "execution_count": 12,
   "id": "dc69e186-0874-4316-b0bd-d6eab9bc4fd3",
   "metadata": {},
   "outputs": [
    {
     "name": "stdin",
     "output_type": "stream",
     "text": [
      " 15\n",
      " 7 6 11 8\n"
     ]
    },
    {
     "name": "stdout",
     "output_type": "stream",
     "text": [
      "[0, 3]\n"
     ]
    }
   ],
   "source": [
    "import re\n",
    "\n",
    "def main():\n",
    "    k = int(input())\n",
    "    line = input()\n",
    "    elements = line.split()\n",
    "    arr = [int(element) for element in elements]\n",
    "\n",
    "    result = two_sum(arr, k)\n",
    "    if result:\n",
    "        print([result[0],result[1]])\n",
    "    else:\n",
    "        print(\"No two numbers found with the given sum.\")\n",
    "\n",
    "def two_sum(arr, target):\n",
    "    seen = {}\n",
    "    \n",
    "    for i, num in enumerate(arr):\n",
    "        difference = target - num\n",
    "        if difference in seen:\n",
    "            return [seen[difference], i]\n",
    "        seen[num] = i\n",
    "    \n",
    "    return None\n",
    "\n",
    "# Running the main function\n",
    "if __name__ == \"__main__\":\n",
    "    main()"
   ]
  },
  {
   "cell_type": "code",
   "execution_count": 21,
   "id": "8c4ae437-904d-44f6-b99d-68c5f1ce5eab",
   "metadata": {},
   "outputs": [
    {
     "name": "stdin",
     "output_type": "stream",
     "text": [
      " 3 6 2\n"
     ]
    },
    {
     "name": "stdout",
     "output_type": "stream",
     "text": [
      "2\n"
     ]
    }
   ],
   "source": [
    "def find_smallest(a, b, c):\n",
    "    return min(a, b, c)\n",
    "\n",
    "def main():\n",
    "    a = input()\n",
    "    temp = [int(item) for item in a.split(sep=\" \")]\n",
    "    smallest = find_smallest(temp[0], temp[1], temp[2])\n",
    "    print(smallest)\n",
    "\n",
    "if __name__ == \"__main__\":\n",
    "    main()"
   ]
  },
  {
   "cell_type": "code",
   "execution_count": 22,
   "id": "0c0167af-d2ea-4069-bf90-ec4d55cbc4b1",
   "metadata": {},
   "outputs": [
    {
     "name": "stdin",
     "output_type": "stream",
     "text": [
      " 2024\n"
     ]
    },
    {
     "name": "stdout",
     "output_type": "stream",
     "text": [
      "LEAP YEAR\n"
     ]
    }
   ],
   "source": [
    "def is_leap_year(year):\n",
    "    if (year % 4 == 0 and year % 100 != 0) or (year % 400 == 0):\n",
    "        return True\n",
    "    else:\n",
    "        return False\n",
    "\n",
    "    \"\"\"\n",
    "    Check if a year is a leap year.\n",
    "    \n",
    "    Parameters:\n",
    "    year (int): The year to check.\n",
    "    \n",
    "    Returns:\n",
    "    bool: True if the year is a leap year, False otherwise.\n",
    "    \"\"\"\n",
    "    \n",
    "# Test the function\n",
    "if __name__ == \"__main__\":\n",
    "    year = int(input())\n",
    "if is_leap_year(year):\n",
    "    print(\"LEAP YEAR\")\n",
    "else:\n",
    "    print(\"COMMON YEAR\")"
   ]
  },
  {
   "cell_type": "code",
   "execution_count": 31,
   "id": "6ceead9f-2037-4726-a527-0c8caef8ac0c",
   "metadata": {},
   "outputs": [
    {
     "name": "stdin",
     "output_type": "stream",
     "text": [
      " 6\n"
     ]
    },
    {
     "name": "stdout",
     "output_type": "stream",
     "text": [
      "No Fair\n"
     ]
    }
   ],
   "source": [
    "# Function to determine the booking category based on age\n",
    "def determine_ticket_category(age):\n",
    "    if age <= 6:\n",
    "        print(\"No Fair\")\n",
    "    elif age > 6 and age < 18:\n",
    "        print(\"Half Ticket\")\n",
    "    else:\n",
    "        print(\"Full Ticket\")\n",
    "\n",
    "if __name__ == \"__main__\":\n",
    "    # Sample inputs to test the function\n",
    "    age = int(input())\n",
    "\n",
    "# Printing the outputs for the sample inputs\n",
    "output = determine_ticket_category(age)"
   ]
  },
  {
   "cell_type": "code",
   "execution_count": 40,
   "id": "412d5765-df3d-468b-bce1-2b1f0a59726a",
   "metadata": {},
   "outputs": [
    {
     "name": "stdin",
     "output_type": "stream",
     "text": [
      " 5 5\n",
      " *\n"
     ]
    },
    {
     "name": "stdout",
     "output_type": "stream",
     "text": [
      "25\n"
     ]
    }
   ],
   "source": [
    "def calculator(num1, num2, operator):\n",
    "    if operator == '+':\n",
    "        return num1 + num2\n",
    "    elif operator == '-':\n",
    "        return num1 - num2\n",
    "    elif operator == '*':\n",
    "        return num1 * num2\n",
    "    elif operator == '/':\n",
    "        if num2 != 0:\n",
    "            return num1 / num2\n",
    "        else:\n",
    "            return \"Error: Division by Zero\"\n",
    "    else:\n",
    "        return \"Invalid operator\"\n",
    "\n",
    "if __name__ == \"__main__\":\n",
    "    input_string = input()\n",
    "operator = input()\n",
    "num1,num2 = ([int(i) for i in input_string.split(\" \")])\n",
    "\n",
    "# Calculate and print the result\n",
    "result = calculator(num1, num2, operator)\n",
    "print(int(result))"
   ]
  },
  {
   "cell_type": "code",
   "execution_count": 47,
   "id": "ec2b4884-b788-4dca-9df6-96b4b6eeac5c",
   "metadata": {},
   "outputs": [
    {
     "name": "stdin",
     "output_type": "stream",
     "text": [
      " 3\n"
     ]
    },
    {
     "name": "stdout",
     "output_type": "stream",
     "text": [
      "A \n",
      "A B \n",
      "A B C \n"
     ]
    }
   ],
   "source": [
    "def print_letter_triangle(N):\n",
    "    alphabet = 'ABCDEFGHILKLMNOPQRSTUVWXYZ'\n",
    "    for i in range(N):\n",
    "        for j in range(i+1):\n",
    "            print(alphabet[j], end = ' ')\n",
    "        print()\n",
    "\n",
    "# Take input from the user\n",
    "if __name__ == \"__main__\":\n",
    "    N = int(input())\n",
    "    \n",
    "# Print the letter triangle\n",
    "print_letter_triangle(N)"
   ]
  },
  {
   "cell_type": "code",
   "execution_count": 55,
   "id": "d55c3325-3bae-4c75-9078-fed323cac35b",
   "metadata": {},
   "outputs": [
    {
     "name": "stdin",
     "output_type": "stream",
     "text": [
      "Enter the size of the square:  5\n"
     ]
    },
    {
     "name": "stdout",
     "output_type": "stream",
     "text": [
      "* * * * * \n",
      "*       * \n",
      "*       * \n",
      "*       * \n",
      "* * * * * \n"
     ]
    }
   ],
   "source": [
    "def print_hollow_square(N):\n",
    "    for i in range(N):\n",
    "        for j in range(N):\n",
    "            # Print '*' for the border and ' ' for the inner spaces\n",
    "            if i == 0 or i == N-1 or j == 0 or j == N-1:\n",
    "                print('*', end=' ')\n",
    "            else:\n",
    "                print(' ', end=' ')\n",
    "        print()\n",
    "\n",
    "if __name__ == \"__main__\":\n",
    "    N = int(input(\"Enter the size of the square: \"))\n",
    "    if N > 0:\n",
    "        print_hollow_square(N)\n",
    "    else:\n",
    "        print(\"Please enter a positive integer.\")\n"
   ]
  },
  {
   "cell_type": "code",
   "execution_count": 62,
   "id": "cc26619c-0817-48a2-a318-c30cd81c38d4",
   "metadata": {},
   "outputs": [
    {
     "name": "stdin",
     "output_type": "stream",
     "text": [
      " 5\n"
     ]
    },
    {
     "name": "stdout",
     "output_type": "stream",
     "text": [
      "A B C D E \n",
      "A B C D \n",
      "A B C \n",
      "A B \n",
      "A \n"
     ]
    }
   ],
   "source": [
    "def print_reverse_letter_triangle(N):\n",
    "    alphabet = 'ABCDEFGHIJKLMNOPQRSTUVWXYZ'\n",
    "    for i in range(N):\n",
    "        for j in range(N-i):\n",
    "            print(alphabet[j], end = ' ')\n",
    "        print()\n",
    "\n",
    "# Take input from the user\n",
    "if __name__ == \"__main__\":\n",
    "    N = int(input())\n",
    "\n",
    "# Print the reverse letter triangle\n",
    "print_reverse_letter_triangle(N)"
   ]
  },
  {
   "cell_type": "code",
   "execution_count": 63,
   "id": "211b6369-a001-4e93-858f-d1c8b37e50fe",
   "metadata": {},
   "outputs": [
    {
     "name": "stdin",
     "output_type": "stream",
     "text": [
      " 5\n"
     ]
    },
    {
     "name": "stdout",
     "output_type": "stream",
     "text": [
      "A \n",
      "B B \n",
      "C C C \n",
      "D D D D \n",
      "E E E E E \n"
     ]
    }
   ],
   "source": [
    "def print_alpha_ramp(N):\n",
    "    alphabet = 'ABCDEFGHIJKLMNOPQRSTUVWXYZ'\n",
    "    for i in range(N):\n",
    "        for j in range(i+1):\n",
    "            print(alphabet[i], end = ' ')\n",
    "        print()\n",
    "\n",
    "# Take input from the user\n",
    "if __name__ == \"__main__\":\n",
    "    N = int(input())\n",
    "\n",
    "# Print the Alpha-Ramp pattern\n",
    "print_alpha_ramp(N)"
   ]
  },
  {
   "cell_type": "code",
   "execution_count": 86,
   "id": "7f72441b-e16b-4094-9f4e-e5a8ea487b27",
   "metadata": {},
   "outputs": [
    {
     "name": "stdin",
     "output_type": "stream",
     "text": [
      " 5\n"
     ]
    },
    {
     "name": "stdout",
     "output_type": "stream",
     "text": [
      "E\n",
      "ED\n",
      "EDC\n",
      "EDCB\n",
      "EDCBA\n"
     ]
    }
   ],
   "source": [
    "def print_alpha_ramp(N):\n",
    "    alphabet = 'ABCDEFGHIJKLMNOPQRSTUVWXYZ'\n",
    "    for i in range(N):\n",
    "        for j in range(i+1):\n",
    "            print(alphabet[N-j-1],end = '')\n",
    "        print()\n",
    "\n",
    "# Take input from the user\n",
    "if __name__ == \"__main__\":\n",
    "    N = int(input())\n",
    "    print_alpha_ramp(N)"
   ]
  },
  {
   "cell_type": "code",
   "execution_count": 89,
   "id": "871c0964-78bf-48c4-bae9-27929f6f4e97",
   "metadata": {},
   "outputs": [
    {
     "name": "stdin",
     "output_type": "stream",
     "text": [
      " 5\n"
     ]
    },
    {
     "name": "stdout",
     "output_type": "stream",
     "text": [
      "*    \n",
      "*    \n",
      "*    \n",
      "*    \n",
      "*****\n"
     ]
    }
   ],
   "source": [
    "def print_pattern_L(N):\n",
    "        for i in range(N):\n",
    "            for j in range(N):\n",
    "                if j == 0 or i == N-1:\n",
    "                    print('*', end = '')\n",
    "                else:\n",
    "                    print(' ', end = '')\n",
    "            print()\n",
    "    \n",
    "# Take input from the user for the value of N\n",
    "if __name__ == \"__main__\":\n",
    "    N = int(input())\n",
    "\n",
    "# Print the pattern L\n",
    "print_pattern_L(N)"
   ]
  },
  {
   "cell_type": "code",
   "execution_count": 90,
   "id": "74804ef7-f34d-4c13-8896-0873d8cacaac",
   "metadata": {},
   "outputs": [
    {
     "name": "stdin",
     "output_type": "stream",
     "text": [
      " 4\n"
     ]
    },
    {
     "name": "stdout",
     "output_type": "stream",
     "text": [
      "* * * * \n",
      "* * * * \n",
      "* * * * \n",
      "* * * * \n"
     ]
    }
   ],
   "source": [
    "def print_square_pattern(n):\n",
    "    for i in range(n):\n",
    "        print(\"* \" * n)\n",
    "\n",
    "# Take input from the user for the value of n\n",
    "if __name__ == \"__main__\":\n",
    "    n = int(input())\n",
    "\n",
    "    # Print the square pattern\n",
    "    print_square_pattern(n)"
   ]
  },
  {
   "cell_type": "code",
   "execution_count": 1,
   "id": "299c7d39-7dbf-49dc-a1fb-e1763d9aefb7",
   "metadata": {},
   "outputs": [
    {
     "name": "stdin",
     "output_type": "stream",
     "text": [
      " 11\n"
     ]
    },
    {
     "name": "stdout",
     "output_type": "stream",
     "text": [
      "2 3 5 7 11 "
     ]
    }
   ],
   "source": [
    "def is_prime(num):\n",
    "    if n <= 1:\n",
    "        return False\n",
    "    for i in range(2, int(num**0.5) + 1):\n",
    "        if num % i == 0:\n",
    "            return False\n",
    "    return True\n",
    "\n",
    "def print_prime_numbers(n):\n",
    "    for num in range(2, n+1):\n",
    "        if is_prime(num):\n",
    "            print(num, end=\" \")\n",
    "\n",
    "# Take input from the user for the range\n",
    "if __name__ == \"__main__\":\n",
    "    n = int(input())\n",
    "\n",
    "# Print the prime numbers within the specified range\n",
    "print_prime_numbers(n)"
   ]
  },
  {
   "cell_type": "code",
   "execution_count": 5,
   "id": "24b245a9-0520-4cdb-8517-d494bf25b0cd",
   "metadata": {},
   "outputs": [
    {
     "name": "stdin",
     "output_type": "stream",
     "text": [
      " 5698\n"
     ]
    },
    {
     "name": "stdout",
     "output_type": "stream",
     "text": [
      "8965\n"
     ]
    }
   ],
   "source": [
    "def reverse_integer(x):\n",
    "    sign = 1 if x >= 0 else -1\n",
    "    \n",
    "    reversed_str = str(abs(x))[::-1]\n",
    "    reversed_int = int(reversed_str) * sign\n",
    "    \n",
    "    if reversed_int < -2**31 or reversed_int > 2**31 - 1:\n",
    "        return 0\n",
    "    else:\n",
    "        return reversed_int\n",
    "        \n",
    "# Function to get input from the user\n",
    "def main():\n",
    "    x = int(input())\n",
    "    result = reverse_integer(x)\n",
    "    print(f\"{result}\")\n",
    "\n",
    "# Run the main function\n",
    "if __name__ == \"__main__\":\n",
    "    main()"
   ]
  },
  {
   "cell_type": "code",
   "execution_count": 12,
   "id": "1380ea23-bae0-4432-931d-dbafdfa8eb4e",
   "metadata": {},
   "outputs": [
    {
     "name": "stdin",
     "output_type": "stream",
     "text": [
      " 17\n"
     ]
    },
    {
     "name": "stdout",
     "output_type": "stream",
     "text": [
      "4\n"
     ]
    }
   ],
   "source": [
    "def largest_power_of_two(n):\n",
    "    exponent = 0\n",
    "    while 2 ** (exponent + 1) <= n:\n",
    "        exponent += 1\n",
    "    return exponent    \n",
    "\n",
    "def main():\n",
    "    num = int(input())\n",
    "    \n",
    "    # Find the largest power of two\n",
    "    largest_exponent = largest_power_of_two(num)\n",
    "    \n",
    "    # Output the result\n",
    "    print(largest_exponent)\n",
    "\n",
    "# Call the main function\n",
    "if __name__ == \"__main__\":\n",
    "    main()"
   ]
  },
  {
   "cell_type": "code",
   "execution_count": 14,
   "id": "5d18bd74-07d6-4e45-b692-b8563634b728",
   "metadata": {},
   "outputs": [
    {
     "name": "stdin",
     "output_type": "stream",
     "text": [
      " 10\n"
     ]
    },
    {
     "name": "stdout",
     "output_type": "stream",
     "text": [
      "87\n"
     ]
    }
   ],
   "source": [
    "def sum_of_divisors(n):\n",
    "    total_sum = 0\n",
    "    for i in range(1, n+1):\n",
    "        sum_of_divisors = 0\n",
    "        for j in range(1, i+1):\n",
    "            if i % j == 0:\n",
    "                sum_of_divisors += j\n",
    "        total_sum += sum_of_divisors\n",
    "    return total_sum\n",
    "    \n",
    "def main():\n",
    "    # Input the number\n",
    "    num = int(input())\n",
    "    \n",
    "    # Calculate the sum of divisors\n",
    "    result = sum_of_divisors(num)\n",
    "    \n",
    "    # Output the result\n",
    "    print(result)\n",
    "\n",
    "# Call the main function\n",
    "if __name__ == \"__main__\":\n",
    "    main()"
   ]
  },
  {
   "cell_type": "code",
   "execution_count": 16,
   "id": "fcb54630-7fec-4cfe-a5bd-fea75be0e1a6",
   "metadata": {},
   "outputs": [
    {
     "name": "stdin",
     "output_type": "stream",
     "text": [
      " 24\n"
     ]
    },
    {
     "name": "stdout",
     "output_type": "stream",
     "text": [
      "2\n"
     ]
    }
   ],
   "source": [
    "def count_divisible_digits(n):\n",
    "    count = 0\n",
    "    for digit in str(n):\n",
    "        if digit != '0' and n % int(digit) == 0:\n",
    "            count += 1\n",
    "    return count\n",
    "\n",
    "# Input the number\n",
    "if __name__ == \"__main__\":\n",
    "    n = int(input())\n",
    "    result = count_divisible_digits(n)\n",
    "\n",
    "# Count divisible digits and print the result\n",
    "print(count_divisible_digits(n))"
   ]
  },
  {
   "cell_type": "code",
   "execution_count": 18,
   "id": "cd598ef7-4eee-4a65-9e74-1d6950b9352a",
   "metadata": {},
   "outputs": [
    {
     "name": "stdout",
     "output_type": "stream",
     "text": [
      "This is Addition method\n",
      "This is Subtraction method\n",
      "This is Multiplication method\n",
      "This is Division method\n"
     ]
    }
   ],
   "source": [
    "class Calculator:\n",
    "    def addition(self):\n",
    "        print(\"This is Addition method\")\n",
    "\n",
    "    def subtraction(self):\n",
    "        print(\"This is Subtraction method\")\n",
    "\n",
    "    def multiplication(self):\n",
    "        print(\"This is Multiplication method\")\n",
    "        return 0 \n",
    "\n",
    "    def division(self):\n",
    "        print(\"This is Division method\")\n",
    "    \n",
    "# Example usage\n",
    "if __name__ == \"__main__\":\n",
    "    calculator = Calculator()\n",
    "    calculator.addition()       # This will print: This is Addition method\n",
    "    calculator.subtraction()    # This will print: This is Subtraction method\n",
    "    calculator.multiplication() # This will print: This is Multiplication method\n",
    "    calculator.division()       # This will print: This is Division method"
   ]
  },
  {
   "cell_type": "code",
   "execution_count": 20,
   "id": "dfd3440c-4356-4fea-89e7-d25a785970d9",
   "metadata": {},
   "outputs": [
    {
     "name": "stdin",
     "output_type": "stream",
     "text": [
      " 11\n"
     ]
    },
    {
     "name": "stdout",
     "output_type": "stream",
     "text": [
      "4\n"
     ]
    }
   ],
   "source": [
    "def is_prime(n):\n",
    "    if n <= 1:\n",
    "        return False\n",
    "    for i in range(2, int(n ** 0.5) + 1):\n",
    "        if n % i == 0:\n",
    "            return False\n",
    "    return True\n",
    "\n",
    "def count_primes(n):\n",
    "    count = 0\n",
    "    for num in range(2, n):\n",
    "        if is_prime(num):\n",
    "            count += 1\n",
    "    return count\n",
    "\n",
    "# Input\n",
    "if __name__ == \"__main__\":\n",
    "    n = int(input())\n",
    "    result = count_primes(n)\n",
    "\n",
    "# Output\n",
    "print(count_primes(n))"
   ]
  },
  {
   "cell_type": "code",
   "execution_count": 21,
   "id": "15228371-0916-40a3-84ea-5f346b2b573a",
   "metadata": {},
   "outputs": [
    {
     "name": "stdin",
     "output_type": "stream",
     "text": [
      " 5 9 11 16\n"
     ]
    },
    {
     "name": "stdout",
     "output_type": "stream",
     "text": [
      "5\n"
     ]
    }
   ],
   "source": [
    "def find_minimum(arr):\n",
    "    if not arr:\n",
    "        return None\n",
    "    \n",
    "    minimum = arr[0]\n",
    "    for num in arr:\n",
    "        if num < minimum:\n",
    "            minimum = num\n",
    "    \n",
    "    return minimum\n",
    "    \n",
    "# Input\n",
    "if __name__ == \"__main__\":\n",
    "    arr = list(map(int, input().split()))\n",
    "\n",
    "# Find the minimum element\n",
    "minimum_element = find_minimum(arr)\n",
    "\n",
    "# Output\n",
    "if minimum_element is not None:\n",
    "    print(minimum_element)"
   ]
  },
  {
   "cell_type": "code",
   "execution_count": 4,
   "id": "0abfeab2-4d52-476e-91ed-60f43105dd8c",
   "metadata": {},
   "outputs": [
    {
     "name": "stdin",
     "output_type": "stream",
     "text": [
      " 5 6 7 9\n",
      " 2\n"
     ]
    },
    {
     "name": "stdout",
     "output_type": "stream",
     "text": [
      "0\n"
     ]
    }
   ],
   "source": [
    "def search_insert_position(nums, target):\n",
    "    left = 0\n",
    "    right = len(nums) - 1\n",
    "    \n",
    "    while left <= right:\n",
    "        mid = (left + right) // 2\n",
    "        \n",
    "        if nums[mid] == target:\n",
    "            return mid\n",
    "        elif nums[mid] < target:\n",
    "            left = mid + 1\n",
    "        else:\n",
    "            right = mid - 1\n",
    "    \n",
    "    return left\n",
    "    \n",
    "# Input array\n",
    "nums = list(map(int, input().split()))\n",
    "\n",
    "# Input target value\n",
    "target = int(input())\n",
    "\n",
    "# Find index or insertion point\n",
    "result = search_insert_position(nums, target)\n",
    "\n",
    "# Output result\n",
    "print(result)"
   ]
  },
  {
   "cell_type": "code",
   "execution_count": 5,
   "id": "062e087f-0b4b-4324-8570-4e3cef63b83f",
   "metadata": {},
   "outputs": [
    {
     "name": "stdin",
     "output_type": "stream",
     "text": [
      " 5 6 8 9 44 11\n"
     ]
    },
    {
     "name": "stdout",
     "output_type": "stream",
     "text": [
      "5 11 19 28 72 83\n"
     ]
    }
   ],
   "source": [
    "def running_sum(nums):\n",
    "    for i in range(1, len(nums)):\n",
    "        nums[i] += nums[i - 1]\n",
    "    return nums\n",
    "\n",
    "# Input array\n",
    "nums = list(map(int, input().split()))\n",
    "\n",
    "# Calculate the running sum\n",
    "result = running_sum(nums)\n",
    "\n",
    "# Output result\n",
    "print(' '.join(map(str, result)))"
   ]
  },
  {
   "cell_type": "code",
   "execution_count": 8,
   "id": "19fed18a-3a08-43d5-8f8d-fb46cd545c7d",
   "metadata": {},
   "outputs": [
    {
     "name": "stdin",
     "output_type": "stream",
     "text": [
      " 15\n",
      " 18\n"
     ]
    },
    {
     "name": "stdout",
     "output_type": "stream",
     "text": [
      "3\n"
     ]
    }
   ],
   "source": [
    "def gcd(n, m):\n",
    "    while m != 0:\n",
    "        n, m = m, n % m\n",
    "    return n\n",
    "\n",
    "# Sample input and output\n",
    "if __name__ == \"__main__\":\n",
    "    n = int(input())\n",
    "    m = int(input())\n",
    "    result = gcd(n, m)\n",
    "    print(result)"
   ]
  },
  {
   "cell_type": "code",
   "execution_count": 11,
   "id": "70ae0b02-acb6-47bb-9b55-77223df40805",
   "metadata": {},
   "outputs": [
    {
     "name": "stdin",
     "output_type": "stream",
     "text": [
      " 5\n"
     ]
    },
    {
     "name": "stdout",
     "output_type": "stream",
     "text": [
      "120\n"
     ]
    }
   ],
   "source": [
    "def factorial(n):\n",
    "    if n == 0:\n",
    "        return 1\n",
    "    else:\n",
    "        return n * factorial(n - 1)\n",
    "\n",
    "\n",
    "# Sample input and output\n",
    "if __name__ == \"__main__\":\n",
    "    n = int(input())\n",
    "    result = factorial(n)\n",
    "    print(result)\n"
   ]
  },
  {
   "cell_type": "code",
   "execution_count": 12,
   "id": "92405da9-b61d-49d7-9836-e00004567bed",
   "metadata": {},
   "outputs": [
    {
     "name": "stdin",
     "output_type": "stream",
     "text": [
      " sagar\n"
     ]
    },
    {
     "name": "stdout",
     "output_type": "stream",
     "text": [
      "ragas\n"
     ]
    }
   ],
   "source": [
    "def reverse_string(s):\n",
    "    return s[::-1]\n",
    "\n",
    "# Sample input and output\n",
    "if __name__ == \"__main__\":\n",
    "    s = input()\n",
    "    reversed_s = reverse_string(s)\n",
    "    print(reversed_s)\n"
   ]
  },
  {
   "cell_type": "code",
   "execution_count": 13,
   "id": "f2ced7f7-d8ae-48ca-a84f-b45a275b7a8c",
   "metadata": {},
   "outputs": [
    {
     "name": "stdin",
     "output_type": "stream",
     "text": [
      " i am going a one big company\n"
     ]
    },
    {
     "name": "stdout",
     "output_type": "stream",
     "text": [
      "company\n"
     ]
    }
   ],
   "source": [
    "def longest_word(sentence):\n",
    "    words = sentence.split()\n",
    "    longest = \"\"\n",
    "    max_length = 0\n",
    "    for word in words:\n",
    "        if len(word) > max_length:\n",
    "            longest = word\n",
    "            max_length = len(word)\n",
    "    return longest\n",
    "\n",
    "def main():\n",
    "    sentence = input()\n",
    "    result = longest_word(sentence)\n",
    "    print(result)\n",
    "\n",
    "if __name__ == \"__main__\":\n",
    "    main()\n"
   ]
  },
  {
   "cell_type": "code",
   "execution_count": 14,
   "id": "04089a91-9071-47de-b09e-38bd7d00dbb0",
   "metadata": {},
   "outputs": [
    {
     "name": "stdin",
     "output_type": "stream",
     "text": [
      "Enter the value of N:  3\n"
     ]
    },
    {
     "name": "stdout",
     "output_type": "stream",
     "text": [
      "Sum of squares of the first 3 natural numbers: 14\n"
     ]
    }
   ],
   "source": [
    "def sum_of_squares(N):\n",
    "    return (N * (N + 1) * (2 * N + 1)) // 6\n",
    "\n",
    "# Sample input and output\n",
    "if __name__ == \"__main__\":\n",
    "    N = int(input())\n",
    "    result = sum_of_squares(N)\n",
    "    print(result)"
   ]
  },
  {
   "cell_type": "code",
   "execution_count": 20,
   "id": "7f1840af-0708-488d-9f50-38fb65062cfe",
   "metadata": {},
   "outputs": [
    {
     "name": "stdin",
     "output_type": "stream",
     "text": [
      " 5\n"
     ]
    },
    {
     "name": "stdout",
     "output_type": "stream",
     "text": [
      "* \n",
      "* \n",
      "* \n",
      "* \n",
      "* * * * * \n"
     ]
    }
   ],
   "source": [
    "def print_pattern_L(N):\n",
    "    for i in range(N):\n",
    "        for j in range(N):\n",
    "            if i == N - 1 or j == 0:\n",
    "                print(\"* \", end=\"\")\n",
    "            else:\n",
    "                print(\"\", end=\"\")\n",
    "        print()\n",
    "\n",
    "# Take input from the user for the value of N\n",
    "if __name__ == \"__main__\":\n",
    "    N = int(input())\n",
    "    print_pattern_L(N)"
   ]
  },
  {
   "cell_type": "code",
   "execution_count": null,
   "id": "6b70fe12-653d-4383-94cc-679097fb23aa",
   "metadata": {},
   "outputs": [],
   "source": []
  }
 ],
 "metadata": {
  "kernelspec": {
   "display_name": "Python 3 (ipykernel)",
   "language": "python",
   "name": "python3"
  },
  "language_info": {
   "codemirror_mode": {
    "name": "ipython",
    "version": 3
   },
   "file_extension": ".py",
   "mimetype": "text/x-python",
   "name": "python",
   "nbconvert_exporter": "python",
   "pygments_lexer": "ipython3",
   "version": "3.11.7"
  }
 },
 "nbformat": 4,
 "nbformat_minor": 5
}
