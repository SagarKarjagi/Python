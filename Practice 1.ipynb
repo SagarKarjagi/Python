{
 "cells": [
  {
   "cell_type": "code",
   "execution_count": 1,
   "id": "f8997cee-9420-4410-8db9-a4884bf81c77",
   "metadata": {},
   "outputs": [
    {
     "name": "stdin",
     "output_type": "stream",
     "text": [
      "Enter the first number:  3\n",
      "Enter the second number:  4\n"
     ]
    },
    {
     "name": "stdout",
     "output_type": "stream",
     "text": [
      "Product: 12\n"
     ]
    }
   ],
   "source": [
    "# Take input of the first number and store it in a variable:\n",
    "num1 = input('Enter the first number: ')\n",
    "\n",
    "# Take input of the second number and store it in a variable:\n",
    "num2 = input('Enter the second number: ')\n",
    "\n",
    "# You will need to typecast the input strings into integers\n",
    "# Calculate the product:\n",
    "multiply = int(num1) * int(num2)\n",
    "\n",
    "# Print the result:\n",
    "print(\"Product:\", multiply)\n"
   ]
  },
  {
   "cell_type": "code",
   "execution_count": 11,
   "id": "1c510b54-bd6c-46c9-a0f4-87447757755e",
   "metadata": {},
   "outputs": [
    {
     "name": "stdout",
     "output_type": "stream",
     "text": [
      "384\n"
     ]
    }
   ],
   "source": [
    "lst = [2,4,6,8]\n",
    "product = 1\n",
    "index = 0\n",
    "while index < len(lst):\n",
    "    product *= lst[index]\n",
    "    index = index + 1\n",
    "print(product)"
   ]
  },
  {
   "cell_type": "code",
   "execution_count": 18,
   "id": "36b8cc37-fbdf-40f7-b729-6c9181805d99",
   "metadata": {},
   "outputs": [
    {
     "name": "stdin",
     "output_type": "stream",
     "text": [
      "Enter any integer sagar\n"
     ]
    },
    {
     "data": {
      "text/plain": [
       "'sagar'"
      ]
     },
     "execution_count": 18,
     "metadata": {},
     "output_type": "execute_result"
    }
   ],
   "source": [
    "n = (input('Enter any integer'))\n",
    "n"
   ]
  },
  {
   "cell_type": "code",
   "execution_count": 23,
   "id": "70fc88e7-8663-4cf2-b244-49467b13bd66",
   "metadata": {},
   "outputs": [
    {
     "name": "stdin",
     "output_type": "stream",
     "text": [
      "Enter marks  44\n"
     ]
    },
    {
     "name": "stdout",
     "output_type": "stream",
     "text": [
      " studnet is not passing\n"
     ]
    }
   ],
   "source": [
    "grade = int(input('Enter marks '))\n",
    "if grade > 65:\n",
    "    print(\" student is passing\")\n",
    "else:\n",
    "    print(\" studnet is not passing\")"
   ]
  },
  {
   "cell_type": "code",
   "execution_count": 25,
   "id": "9b9a529e-0227-49e8-8d0e-4bcf8af913f2",
   "metadata": {},
   "outputs": [
    {
     "name": "stdout",
     "output_type": "stream",
     "text": [
      "[7, 8, 1, 2, 3, 4, 5]\n"
     ]
    }
   ],
   "source": [
    "a=[1,2,3,4,5]\n",
    "b=[7,8]\n",
    "for i in a:\n",
    "    b.append(i)\n",
    "print(b)"
   ]
  },
  {
   "cell_type": "code",
   "execution_count": 3,
   "id": "a5c79c8c-dab4-42ce-ac4d-f5442be2dc46",
   "metadata": {},
   "outputs": [
    {
     "name": "stdin",
     "output_type": "stream",
     "text": [
      "enter the first number:  50\n",
      "enter the second number:  00\n"
     ]
    },
    {
     "data": {
      "text/plain": [
       "2500"
      ]
     },
     "execution_count": 3,
     "metadata": {},
     "output_type": "execute_result"
    }
   ],
   "source": [
    "a = int(input('enter the first number: '))\n",
    "b = int(input('enter the second number: '))\n",
    "def sum_of_numbers(a,b):\n",
    "    return a ** 2\n",
    "sum_of_numbers(a,b)"
   ]
  },
  {
   "cell_type": "code",
   "execution_count": 42,
   "id": "10d635ec-4cfc-41f1-af22-f9c322c34ad9",
   "metadata": {},
   "outputs": [
    {
     "name": "stdout",
     "output_type": "stream",
     "text": [
      "sum of integer from 1 to 25 is \n",
      "sum of integer from 50 to 75 is \n",
      "sum of integer from 90 to 100 is \n",
      "sum of integer from 10 to 45 is \n"
     ]
    }
   ],
   "source": [
    "def sum (x,y):\n",
    "    sum = 0\n",
    "    for i in range(x,y+1):\n",
    "        sum= sum + i\n",
    "    print(\"sum of integer from {} to {} is \".format(x,y,sum))\n",
    "sum(1,25)\n",
    "sum(50,75)\n",
    "sum(90,100)\n",
    "sum(10,45)"
   ]
  },
  {
   "cell_type": "code",
   "execution_count": 44,
   "id": "02c7daae-9364-4556-9b16-cccf80475adb",
   "metadata": {},
   "outputs": [
    {
     "data": {
      "text/plain": [
       "100"
      ]
     },
     "execution_count": 44,
     "metadata": {},
     "output_type": "execute_result"
    }
   ],
   "source": [
    "f = lambda x:x**2\n",
    "f(10)"
   ]
  },
  {
   "cell_type": "code",
   "execution_count": 50,
   "id": "b0591441-7974-42f3-9d7b-76f366c8f506",
   "metadata": {},
   "outputs": [
    {
     "name": "stdout",
     "output_type": "stream",
     "text": [
      "[1, 4, 9, 16, 25]\n"
     ]
    }
   ],
   "source": [
    "a = [1,2,3,4,5]\n",
    "squares = list(map(lambda x: x ** 2, a))\n",
    "print(squares)"
   ]
  },
  {
   "cell_type": "code",
   "execution_count": 53,
   "id": "466df4fb-c6e3-4d63-8966-956ed05a8317",
   "metadata": {},
   "outputs": [
    {
     "name": "stdout",
     "output_type": "stream",
     "text": [
      "[2, 4, 6, 8]\n"
     ]
    }
   ],
   "source": [
    "a = [1, 2, 3, 4, 5,6 , 7, 8, 199]\n",
    "squares = list(filter(lambda x: (x % 2==0), a))\n",
    "print(squares)"
   ]
  },
  {
   "cell_type": "code",
   "execution_count": 70,
   "id": "f7745afc-5d75-44ea-b2fc-07adc0d1c224",
   "metadata": {},
   "outputs": [
    {
     "name": "stdout",
     "output_type": "stream",
     "text": [
      "WELCOME TO SKILLOVILLA!"
     ]
    }
   ],
   "source": [
    "def myMapFunc(s):\n",
    "    return s.upper()\n",
    "my_str = \"welcome to SkilloVilla!\"\n",
    "updated_list = map(myMapFunc, my_str)\n",
    "for i in updated_list:\n",
    "    print(i, end='')"
   ]
  },
  {
   "cell_type": "code",
   "execution_count": 60,
   "id": "f702332d-1c36-45f4-a8ef-5dc0f6239d22",
   "metadata": {},
   "outputs": [],
   "source": [
    "from functools import reduce"
   ]
  },
  {
   "cell_type": "code",
   "execution_count": 67,
   "id": "bb243385-b655-4245-b388-fa471b03d9ff",
   "metadata": {},
   "outputs": [
    {
     "name": "stdout",
     "output_type": "stream",
     "text": [
      "120\n"
     ]
    }
   ],
   "source": [
    "a = [1, 2, 3, 4, 5]\n",
    "product = reduce(lambda x, y: x*y, a)\n",
    "print(product)"
   ]
  },
  {
   "cell_type": "code",
   "execution_count": 72,
   "id": "5093a82d-d3ff-41cf-b893-4fa0729ecb45",
   "metadata": {},
   "outputs": [
    {
     "name": "stdin",
     "output_type": "stream",
     "text": [
      "muliply_number 10\n",
      "muliply_number 5\n",
      "muliply_number 6\n",
      "muliply_number 10\n",
      "muliply_number 10\n",
      "muliply_number 10\n",
      "muliply_number 10\n",
      "muliply_number 10\n"
     ]
    },
    {
     "name": "stdout",
     "output_type": "stream",
     "text": [
      "[20, 15, 24, 50, 60, 70, 80, 90]\n"
     ]
    }
   ],
   "source": [
    "my_list = [2,3,4,5,6,7,8,9]\n",
    "def my_function(n):\n",
    "    return n*int(input(\"muliply_number\"))\n",
    "updated_list = map(my_function, my_list)\n",
    "print(list(updated_list))"
   ]
  },
  {
   "cell_type": "code",
   "execution_count": 79,
   "id": "719c0635-07d3-45e0-b164-2c86438ea8fe",
   "metadata": {},
   "outputs": [
    {
     "name": "stdout",
     "output_type": "stream",
     "text": [
      "['aPHP', 'bJava', 'bPython', 'dC++', 'eC']\n"
     ]
    }
   ],
   "source": [
    "def myMapFunc(list1, tuple1):\n",
    "    return list1+tuple1\n",
    "\n",
    "my_list = ['a','b', 'b', 'd', 'e']\n",
    "my_tuple = ('PHP','Java','Python','C++','C')\n",
    "\n",
    "updated_list = map(myMapFunc, my_list,my_tuple)\n",
    "print(list(updated_list))"
   ]
  },
  {
   "cell_type": "code",
   "execution_count": 82,
   "id": "70065627-e9b9-4ae7-972c-7cd331908eaa",
   "metadata": {},
   "outputs": [
    {
     "name": "stdout",
     "output_type": "stream",
     "text": [
      "False\n",
      "True\n",
      "True\n"
     ]
    }
   ],
   "source": [
    "C = 12222\n",
    "X = 12222.0\n",
    "Y = \"12222\"\n",
    "print(C!=X)\n",
    "print(X!=Y)\n",
    "print(C!=Y)"
   ]
  },
  {
   "cell_type": "code",
   "execution_count": null,
   "id": "71a75fa2-61e1-492f-a821-0e7c3fb6c953",
   "metadata": {},
   "outputs": [
    {
     "name": "stdin",
     "output_type": "stream",
     "text": [
      "Menu :  \n",
      " 1.Add \n",
      " 2.Subtract \n",
      " 3.Multiply \n",
      " 4.Divide \n",
      " 0.Exit \n",
      "Enter an option :  1\n",
      "Enter the first value :  1\n",
      "Enter the second value :  1\n"
     ]
    },
    {
     "name": "stdout",
     "output_type": "stream",
     "text": [
      "2\n"
     ]
    }
   ],
   "source": [
    "\n",
    "def get_value():\n",
    "    x = int(input(\"Enter the first value : \"))\n",
    "    y = int(input(\"Enter the second value : \"))\n",
    "    return (x, y)\n",
    "\n",
    "def add():\n",
    "    x,y = get_value()\n",
    "    print(x+y)\n",
    "\n",
    "def subtract():\n",
    "    x,y = get_value()\n",
    "    print(x-y)\n",
    "\n",
    "def multiply():\n",
    "    x,y = get_value()\n",
    "    print(x*y)\n",
    "\n",
    "def divide():\n",
    "    x,y = get_value()\n",
    "    print(x/y)\n",
    "\n",
    "\n",
    "def menu():\n",
    "    op = int(input(\"Menu :  \\n 1.Add \\n 2.Subtract \\n 3.Multiply \\n 4.Divide \\n 0.Exit \\nEnter an option : \"))\n",
    "\n",
    "    if op == 1:\n",
    "        add()\n",
    "        menu()\n",
    "    elif op == 2:\n",
    "        subtract()\n",
    "        menu()\n",
    "    elif op == 3:\n",
    "        multiply()\n",
    "        menu()\n",
    "    elif op == 4:\n",
    "        divide()\n",
    "        menu()\n",
    "    elif op == 0:\n",
    "        exit()\n",
    "    else:\n",
    "        print (\"Invalid option\")\n",
    "menu()"
   ]
  },
  {
   "cell_type": "code",
   "execution_count": 1,
   "id": "2895f385-dd1a-4103-a4f2-0822a9701a5e",
   "metadata": {},
   "outputs": [
    {
     "name": "stdout",
     "output_type": "stream",
     "text": [
      "15\n"
     ]
    }
   ],
   "source": [
    "x = lambda a : a + 10\n",
    "print(x(5))"
   ]
  },
  {
   "cell_type": "code",
   "execution_count": 20,
   "id": "74a78c51-22f0-4250-a364-5eab6f57b6ab",
   "metadata": {},
   "outputs": [],
   "source": [
    "def BinarySearch(lys, val):\n",
    "    first = 0\n",
    "    last = len(lys)-1\n",
    "    index = -1\n",
    "    while (first <= last) and (index == -1):\n",
    "        mid = (first+last)//2\n",
    "        if lys[mid] == val:\n",
    "            index = mid\n",
    "        else:\n",
    "            if val<lys[mid]:\n",
    "                last = mid -1\n",
    "            else:\n",
    "                first = mid +1\n",
    "    return index"
   ]
  },
  {
   "cell_type": "code",
   "execution_count": 22,
   "id": "1272efc5-64cb-4df6-a6e9-8062a162a5f9",
   "metadata": {},
   "outputs": [
    {
     "name": "stdout",
     "output_type": "stream",
     "text": [
      "4\n"
     ]
    }
   ],
   "source": [
    "my_list= [1,2,3,4,13,12,7,8,9,10]\n",
    "print(BinarySearch(my_list,13))"
   ]
  },
  {
   "cell_type": "code",
   "execution_count": 25,
   "id": "0d8ad118-6c70-4ccb-9749-4075d1db0a45",
   "metadata": {},
   "outputs": [
    {
     "name": "stdout",
     "output_type": "stream",
     "text": [
      "['Skillo', 'Villa']\n"
     ]
    },
    {
     "data": {
      "text/plain": [
       "list"
      ]
     },
     "execution_count": 25,
     "metadata": {},
     "output_type": "execute_result"
    }
   ],
   "source": [
    "str1 = \"Skillo Villa\"\n",
    "print(str1.split(\" \"))\n",
    "type(str1.split(\" \"))"
   ]
  },
  {
   "cell_type": "code",
   "execution_count": 28,
   "id": "64424292-e928-4cb7-8111-3edd3c1848b4",
   "metadata": {},
   "outputs": [],
   "source": [
    "str1 = \"Skillo Villa\"\n",
    "str2 = \"\"\n",
    "for i in str1:\n",
    "  str2 = str2 + i"
   ]
  },
  {
   "cell_type": "code",
   "execution_count": 29,
   "id": "d63186fe-db29-4a67-b507-ae73d6745b28",
   "metadata": {},
   "outputs": [
    {
     "name": "stdout",
     "output_type": "stream",
     "text": [
      "Skillo Villa\n"
     ]
    }
   ],
   "source": [
    "print(str2)"
   ]
  },
  {
   "cell_type": "code",
   "execution_count": 1,
   "id": "b48a24e9-fa9b-455c-9d60-a17762b56e49",
   "metadata": {},
   "outputs": [],
   "source": [
    "river = ['Ganga','Yamuna','Godavari','Brahmaputra','Kaveri']"
   ]
  },
  {
   "cell_type": "code",
   "execution_count": 5,
   "id": "20a3b294-0783-4588-aca8-128f71db8937",
   "metadata": {},
   "outputs": [
    {
     "name": "stdout",
     "output_type": "stream",
     "text": [
      "['Ganga'] ['Yamuna', 'Godavari', 'Brahmaputra', 'Kaveri']\n"
     ]
    }
   ],
   "source": [
    "newlist1 = []\n",
    "newlist2 = []\n",
    "\n",
    "for x in river:\n",
    "    if 'g' in x:\n",
    "        newlist1.append(x)\n",
    "    else:\n",
    "        newlist2.append(x)\n",
    "print(newlist1,newlist2)"
   ]
  },
  {
   "cell_type": "code",
   "execution_count": 9,
   "id": "30e80bd8-6c42-4d74-afc6-5d1aadc43027",
   "metadata": {},
   "outputs": [
    {
     "name": "stdout",
     "output_type": "stream",
     "text": [
      "['Ganga']\n"
     ]
    }
   ],
   "source": [
    "newlist = [x for x in river if 'g' in x]\n",
    "print(newlist)"
   ]
  },
  {
   "cell_type": "code",
   "execution_count": 12,
   "id": "aa875998-fec4-467f-a076-9a06b3bb31d3",
   "metadata": {},
   "outputs": [
    {
     "name": "stdout",
     "output_type": "stream",
     "text": [
      "[10, 11, 12, 13, 14, 15, 16, 17, 18, 19]\n"
     ]
    }
   ],
   "source": [
    "newlist = [x for x in range (10,20)]\n",
    "print(newlist)"
   ]
  },
  {
   "cell_type": "code",
   "execution_count": 19,
   "id": "a0cd8343-bb57-40b4-9bc9-c63c37f2133e",
   "metadata": {},
   "outputs": [
    {
     "name": "stdin",
     "output_type": "stream",
     "text": [
      "Enter the size of the list  5\n",
      "Enter the list items separated by space  45332523\n"
     ]
    },
    {
     "name": "stdout",
     "output_type": "stream",
     "text": [
      "User list:  [45332523]\n"
     ]
    }
   ],
   "source": [
    "nl = int(input(\"Enter the size of the list \"))\n",
    "\n",
    "n_list = list(int(num) for num in input(\"Enter the list items separated by space \").strip().split())[:nl]\n",
    "\n",
    "print(\"User list: \", n_list)"
   ]
  },
  {
   "cell_type": "code",
   "execution_count": 25,
   "id": "0230f6d7-0f2e-49b1-b8de-14bff3ba40ad",
   "metadata": {},
   "outputs": [
    {
     "name": "stdout",
     "output_type": "stream",
     "text": [
      "6 7 8 9 10 11 "
     ]
    }
   ],
   "source": [
    "def sum(a):\n",
    "    c = a+5\n",
    "    return c\n",
    "\n",
    "#Let us pass this user defined function to list in Python and analyze the result further.\n",
    "\n",
    "a = [1,2,3,4,5,6]\n",
    "\n",
    "for x in a:\n",
    "    print(sum(x), end=' ')"
   ]
  },
  {
   "cell_type": "code",
   "execution_count": 38,
   "id": "dae08e15-1f88-461d-8c5c-87cff40b4ed4",
   "metadata": {},
   "outputs": [
    {
     "name": "stdout",
     "output_type": "stream",
     "text": [
      "Greater than 50\n",
      "Greater than 50\n",
      "Lesser\n",
      "Lesser\n",
      "Lesser\n",
      "Greater than 50\n"
     ]
    }
   ],
   "source": [
    "a = [64,89,43,1,9,76]\n",
    "\n",
    "def num_check(a):\n",
    "    if(a>50):\n",
    "        print(\"Greater than 50\")\n",
    "    else:\n",
    "        print(\"Lesser\")\n",
    "\n",
    "for i in a:\n",
    "    num_check(i)"
   ]
  },
  {
   "cell_type": "code",
   "execution_count": 77,
   "id": "9efea858-dccc-4567-af48-91daffc1a422",
   "metadata": {},
   "outputs": [
    {
     "name": "stdin",
     "output_type": "stream",
     "text": [
      "enter 1st number:  5\n",
      "enter 2nd number:  10\n"
     ]
    },
    {
     "data": {
      "text/plain": [
       "7.5"
      ]
     },
     "execution_count": 77,
     "metadata": {},
     "output_type": "execute_result"
    }
   ],
   "source": [
    "e = int(input(\"enter 1st number: \"))\n",
    "y = int(input(\"enter 2nd number: \"))\n",
    "\n",
    "def avg(m,n):\n",
    "    return (m+n)/2\n",
    "avg(e,y)"
   ]
  },
  {
   "cell_type": "code",
   "execution_count": 54,
   "id": "678a828a-3f25-47b8-a2e0-d926bb8364a3",
   "metadata": {},
   "outputs": [
    {
     "name": "stdout",
     "output_type": "stream",
     "text": [
      "True\n"
     ]
    }
   ],
   "source": [
    "def test(integer, var=True, dict1={2:4, 3:5, 4:8}):\n",
    "    if var== True:\n",
    "        if integer in dict1.keys():\n",
    "            return dict1[integer]\n",
    "        else:\n",
    "            return True\n",
    "    if var==False:\n",
    "        return var\n",
    "    else:\n",
    "        return False\n",
    "print(test(\"sagar\"))"
   ]
  },
  {
   "cell_type": "code",
   "execution_count": 48,
   "id": "cf242dd6-cf76-487e-92c0-5faf52c70739",
   "metadata": {},
   "outputs": [
    {
     "name": "stdout",
     "output_type": "stream",
     "text": [
      "None\n"
     ]
    }
   ],
   "source": [
    "print(test(5))"
   ]
  },
  {
   "cell_type": "code",
   "execution_count": 55,
   "id": "e712282c-563c-41cf-aef6-329d29fd9bcd",
   "metadata": {},
   "outputs": [],
   "source": [
    "def checkingIfIn(a, direction = True, d = {'mars': 2, 'jupiter': 1, 'saturn': 19, 'earth': 5, 'sun': 3, 'moon': 2, 'venus': 7}):\n",
    "    if direction == True:\n",
    "        if a in d:\n",
    "            return d[a]\n",
    "        else:\n",
    "            return False"
   ]
  },
  {
   "cell_type": "code",
   "execution_count": 67,
   "id": "f575d27b-1c04-4761-8276-ac461c266e98",
   "metadata": {},
   "outputs": [
    {
     "name": "stdout",
     "output_type": "stream",
     "text": [
      "False\n"
     ]
    }
   ],
   "source": [
    "print(checkingIfIn('sagar'))"
   ]
  },
  {
   "cell_type": "code",
   "execution_count": 74,
   "id": "e06dfb17-ae37-49fe-b4a7-10047351d043",
   "metadata": {},
   "outputs": [],
   "source": [
    "def concatenate_num_nd_string(local_number, local_string):\n",
    "    local_variable = str(local_string)+\" \"+str(local_number)\n",
    "    return local_variable"
   ]
  },
  {
   "cell_type": "code",
   "execution_count": 69,
   "id": "7348a391-54dc-4edc-b391-ebeae252810f",
   "metadata": {},
   "outputs": [
    {
     "data": {
      "text/plain": [
       "'Self Motivation'"
      ]
     },
     "execution_count": 69,
     "metadata": {},
     "output_type": "execute_result"
    }
   ],
   "source": [
    "concatenate_num_nd_string('Motivation',\"Self\")"
   ]
  },
  {
   "cell_type": "code",
   "execution_count": 76,
   "id": "bc757dd3-20ab-4ccd-89d2-580225f53dab",
   "metadata": {},
   "outputs": [
    {
     "data": {
      "text/plain": [
       "'8 6'"
      ]
     },
     "execution_count": 76,
     "metadata": {},
     "output_type": "execute_result"
    }
   ],
   "source": [
    "concatenate_num_nd_string(6\n",
    "                          ,8)"
   ]
  },
  {
   "cell_type": "code",
   "execution_count": 80,
   "id": "05be748e-5173-41df-a084-a09d1c80f9a8",
   "metadata": {},
   "outputs": [
    {
     "name": "stdout",
     "output_type": "stream",
     "text": [
      "[2, 2, 2, 2, 3, 4, 4, 4, 4, 5, 5, 5, 54, 234]\n"
     ]
    }
   ],
   "source": [
    "def sort_list(input_sort):\n",
    "    for k in range(0,len(input_sort)):\n",
    "        for a in range(0,len(input_sort)-1):\n",
    "            if input_sort[k]>input_sort[a]:\n",
    "                continue\n",
    "            else:\n",
    "                b=input_sort[k]\n",
    "                input_sort[k]=input_sort[a]\n",
    "                input_sort[a]=b\n",
    "    return input_sort\n",
    "\n",
    "input_sort = (2,3,4,5,2,54,2,4,5,2,4,4,234,5)\n",
    "input_sort = list(map(int,input_sort))\n",
    "print(sort_list(input_sort))\n",
    "    "
   ]
  },
  {
   "cell_type": "code",
   "execution_count": 98,
   "id": "676d76cd-dbae-45a1-81c8-c730c14e7d86",
   "metadata": {},
   "outputs": [],
   "source": [
    "def quicksort(lst):\n",
    "    if not lst:\n",
    "        return []\n",
    "    return (quicksort([x for x in lst[1:] if x<lst[0]]) + [lst[0]] + quicksort([x for x in lst[1:] if x>=lst[0]]))"
   ]
  },
  {
   "cell_type": "code",
   "execution_count": 99,
   "id": "674ba0ab-2020-45bb-a558-44d05b6e1c2e",
   "metadata": {},
   "outputs": [
    {
     "data": {
      "text/plain": [
       "[3, 3, 3, 4, 5, 5, 5, 23, 24, 24, 34, 34, 34, 54, 554]"
      ]
     },
     "execution_count": 99,
     "metadata": {},
     "output_type": "execute_result"
    }
   ],
   "source": [
    "quicksort([23,34,554,34,5,3,54,3,24,5,3,24,4,34,5])"
   ]
  },
  {
   "cell_type": "code",
   "execution_count": 85,
   "id": "e6c3cbae-42a6-4bf9-a95f-72e3ab71bd93",
   "metadata": {},
   "outputs": [],
   "source": [
    "def quicksort(lst):\n",
    "    if not lst:\n",
    "        return []\n",
    "    return (quicksort([x for x in lst[1:] if x <  lst[0]])\n",
    "            + [lst[0]] +\n",
    "            quicksort([x for x in lst[1:] if x >= lst[0]]))"
   ]
  },
  {
   "cell_type": "code",
   "execution_count": 86,
   "id": "505ba4c1-3bc4-4ae1-a5ec-62e4f100b517",
   "metadata": {},
   "outputs": [
    {
     "data": {
      "text/plain": [
       "[3, 3, 3, 4, 5, 5, 5, 23, 24, 24, 34, 34, 34, 54, 554]"
      ]
     },
     "execution_count": 86,
     "metadata": {},
     "output_type": "execute_result"
    }
   ],
   "source": [
    "quicksort([23,34,554,34,5,3,54,3,24,5,3,24,4,34,5])"
   ]
  },
  {
   "cell_type": "code",
   "execution_count": 101,
   "id": "49344bb7-b6ca-47d7-8443-195d018c00ce",
   "metadata": {},
   "outputs": [
    {
     "name": "stdout",
     "output_type": "stream",
     "text": [
      "<function quicksort at 0x00000263951F8E00>\n"
     ]
    }
   ],
   "source": [
    "print(quicksort)"
   ]
  },
  {
   "cell_type": "code",
   "execution_count": 102,
   "id": "3637d047-20f7-4999-9362-a19bb8825b28",
   "metadata": {},
   "outputs": [
    {
     "name": "stdin",
     "output_type": "stream",
     "text": [
      "Enter your String:  sagar\n"
     ]
    },
    {
     "name": "stdout",
     "output_type": "stream",
     "text": [
      "The string entered by user is sagar\n"
     ]
    }
   ],
   "source": [
    "a=input(\"Enter your String: \")\n",
    "print(\"The string entered by user is\",a)"
   ]
  },
  {
   "cell_type": "code",
   "execution_count": 106,
   "id": "f14f2065-4e61-4b33-b372-230da90b5864",
   "metadata": {},
   "outputs": [
    {
     "name": "stdout",
     "output_type": "stream",
     "text": [
      "Enter no. of elements\n"
     ]
    },
    {
     "name": "stdin",
     "output_type": "stream",
     "text": [
      " 3\n"
     ]
    },
    {
     "name": "stdout",
     "output_type": "stream",
     "text": [
      "Enter 3 integer elements\n"
     ]
    },
    {
     "name": "stdin",
     "output_type": "stream",
     "text": [
      " 1\n",
      " 2\n",
      " 3\n"
     ]
    },
    {
     "name": "stdout",
     "output_type": "stream",
     "text": [
      "Array entered by user is [1, 2, 3]\n"
     ]
    }
   ],
   "source": [
    "print(\"Enter no. of elements\")\n",
    "a=int(input())\n",
    "\n",
    "print(\"Enter\",a,\"integer elements\") # enter elements one by one\n",
    "array=[]\n",
    "for i in range(a):\n",
    "   array.append(int(input()))\n",
    "print(\"Array entered by user is\",array)"
   ]
  },
  {
   "cell_type": "code",
   "execution_count": 126,
   "id": "9594e5cd-7bae-44c5-931c-906a064df2d7",
   "metadata": {},
   "outputs": [
    {
     "name": "stdin",
     "output_type": "stream",
     "text": [
      " 1\n",
      " 2\n",
      " 3\n",
      " 4\n",
      " 3\n",
      " 2\n",
      " 3\n",
      " 3\n"
     ]
    },
    {
     "name": "stdout",
     "output_type": "stream",
     "text": [
      "[[1, 2, 3, 4], [3, 2, 3, 3]]\n"
     ]
    }
   ],
   "source": [
    "matrix =[]\n",
    "for i in range (2):\n",
    "    row=[]\n",
    "    for j in range (4):\n",
    "        element=int(input())\n",
    "        row.append(element)\n",
    "    matrix.append(row)\n",
    "\n",
    "print(matrix)"
   ]
  },
  {
   "cell_type": "code",
   "execution_count": 137,
   "id": "1a8e1f90-f1e2-4a78-80f4-044b8fa2ff75",
   "metadata": {},
   "outputs": [],
   "source": [
    "names = [\"subha\", \"vidya\", \"rohan\", \"rio\"]\n",
    "enumNames = enumerate(names, 10)"
   ]
  },
  {
   "cell_type": "code",
   "execution_count": 134,
   "id": "0ef5318b-0fa9-4a7a-9875-311abb5b4d4d",
   "metadata": {},
   "outputs": [
    {
     "name": "stdout",
     "output_type": "stream",
     "text": [
      "[(10, 'subha'), (11, 'vidya'), (12, 'rohan'), (13, 'rio')]\n"
     ]
    }
   ],
   "source": [
    "print(list(enumNames))"
   ]
  },
  {
   "cell_type": "code",
   "execution_count": 138,
   "id": "5e382257-8d7b-4805-ac7b-65ecea511dc5",
   "metadata": {},
   "outputs": [
    {
     "name": "stdout",
     "output_type": "stream",
     "text": [
      "(10, 'subha')\n",
      "(11, 'vidya')\n",
      "(12, 'rohan')\n",
      "(13, 'rio')\n"
     ]
    }
   ],
   "source": [
    "for item in enumNames:\n",
    "    print(item)"
   ]
  },
  {
   "cell_type": "code",
   "execution_count": 144,
   "id": "35cb75f5-64d9-492b-89ba-e9b038ed6952",
   "metadata": {},
   "outputs": [
    {
     "data": {
      "text/plain": [
       "12"
      ]
     },
     "execution_count": 144,
     "metadata": {},
     "output_type": "execute_result"
    }
   ],
   "source": [
    "(lambda x,y: x+y) (9,3)"
   ]
  },
  {
   "cell_type": "code",
   "execution_count": 148,
   "id": "3d045dde-4e23-435b-b6d3-624649c4cbd4",
   "metadata": {},
   "outputs": [
    {
     "data": {
      "text/plain": [
       "418.3"
      ]
     },
     "execution_count": 148,
     "metadata": {},
     "output_type": "execute_result"
    }
   ],
   "source": [
    "round((lambda m, n: (m + n)/2)(67.54, 769.1),1)"
   ]
  },
  {
   "cell_type": "code",
   "execution_count": 164,
   "id": "b97e00d0-7055-4b89-8ceb-ebe777cf1de8",
   "metadata": {},
   "outputs": [],
   "source": [
    "x = (lambda y : 'even' if (y%2==0) else 'odd')"
   ]
  },
  {
   "cell_type": "code",
   "execution_count": 166,
   "id": "05615b9b-385c-4390-8511-e120ef5b32c9",
   "metadata": {},
   "outputs": [
    {
     "name": "stdout",
     "output_type": "stream",
     "text": [
      "even\n"
     ]
    }
   ],
   "source": [
    "print(x(6))"
   ]
  },
  {
   "cell_type": "code",
   "execution_count": 168,
   "id": "dccdf3a7-ddc5-43fb-a730-a98d37c13be5",
   "metadata": {},
   "outputs": [
    {
     "name": "stdout",
     "output_type": "stream",
     "text": [
      "[4, 9, 3]\n",
      "[15, 20, 50]\n",
      "[4, 9, 3, 15, 20, 50]\n"
     ]
    }
   ],
   "source": [
    "n1 = [4 , 9 , 3]\n",
    "n2 = [15, 20, 50]\n",
    "print(n1)\n",
    "print(n2)\n",
    " \n",
    "print(n1+n2)"
   ]
  },
  {
   "cell_type": "code",
   "execution_count": 171,
   "id": "5c8c5302-0039-421e-9feb-7c4405f95a1e",
   "metadata": {},
   "outputs": [
    {
     "name": "stdout",
     "output_type": "stream",
     "text": [
      "[10, 9, 8, 7, 6, 5, 4, 3, 2, 1]\n",
      "[30, 27, 24, 21, 18, 15, 12, 9, 6, 3]\n"
     ]
    }
   ],
   "source": [
    "number = [10, 9, 8, 7 ,6 , 5, 4, 3, 2, 1]\n",
    "print(number)\n",
    " \n",
    "double_num = list(map(lambda x : x * 3, number))\n",
    "print(double_num)"
   ]
  },
  {
   "cell_type": "code",
   "execution_count": 172,
   "id": "47d9f434-9aea-40f4-ac5b-12f2dd97dd63",
   "metadata": {},
   "outputs": [
    {
     "name": "stdout",
     "output_type": "stream",
     "text": [
      "30\n",
      "27\n",
      "24\n",
      "21\n",
      "18\n",
      "15\n",
      "12\n",
      "9\n",
      "6\n",
      "3\n"
     ]
    }
   ],
   "source": [
    "for i in double_num:\n",
    "    print(i)"
   ]
  },
  {
   "cell_type": "code",
   "execution_count": 177,
   "id": "eecd362e-2198-47ba-be59-967a582211f2",
   "metadata": {},
   "outputs": [
    {
     "name": "stdout",
     "output_type": "stream",
     "text": [
      "['as', 'an']\n"
     ]
    }
   ],
   "source": [
    "def st(s):\n",
    "    return s[0]=='a'          # function to check last character match\n",
    "\n",
    "f = ['as','an','in','it','the','so','no','yes']\n",
    "filter_object = filter(st, f)\n",
    "\n",
    "print(list(filter_object))"
   ]
  },
  {
   "cell_type": "code",
   "execution_count": 8,
   "id": "605e7d6b-812b-4d58-a9bf-d9b9a2605190",
   "metadata": {},
   "outputs": [
    {
     "name": "stdout",
     "output_type": "stream",
     "text": [
      "4\n",
      "[1, 2, 3, 5, 6, 7]\n"
     ]
    }
   ],
   "source": [
    "numbers = [1,2,3,4,5,6,7]\n",
    "print(numbers.pop(3))\n",
    "print(numbers)"
   ]
  },
  {
   "cell_type": "code",
   "execution_count": 11,
   "id": "6897e268-8941-4670-a8fa-de7bc1230d9f",
   "metadata": {},
   "outputs": [
    {
     "name": "stdout",
     "output_type": "stream",
     "text": [
      "0 2 4 6 8 10 12 14 16 18 20 22 24 26 28 30 32 34 36 38 40 42 44 46 48 50 52 54 56 58 60 62 "
     ]
    }
   ],
   "source": [
    "even_nu = []\n",
    "for even_nu in range(0,64,2):\n",
    "    print(even_nu, end=\" \")"
   ]
  },
  {
   "cell_type": "code",
   "execution_count": 3,
   "id": "4b9f09f9-74c4-423f-9da0-53e15c212633",
   "metadata": {},
   "outputs": [
    {
     "name": "stdout",
     "output_type": "stream",
     "text": [
      "[2, 4, 6, 8, 10, 12, 14, 16, 18, 20, 22, 24, 26, 28, 30, 32, 34, 36, 38, 40, 42, 44, 46, 48, 50, 52, 54, 56, 58, 60, 62]\n"
     ]
    }
   ],
   "source": [
    "even_nu = []\n",
    "for i in range(1,64):\n",
    "    while i %2 ==0:\n",
    "        even_nu.append(i)\n",
    "        break\n",
    "print(even_nu)"
   ]
  },
  {
   "cell_type": "code",
   "execution_count": 5,
   "id": "5e8b5251-7d4a-4d6c-8295-44cb7fb1f748",
   "metadata": {},
   "outputs": [],
   "source": [
    "def fun():\n",
    "    print(\"sagar\")"
   ]
  },
  {
   "cell_type": "code",
   "execution_count": 6,
   "id": "edc056d2-5e17-4b14-80ff-24d62ab72b4b",
   "metadata": {},
   "outputs": [
    {
     "name": "stdout",
     "output_type": "stream",
     "text": [
      "sagar\n"
     ]
    }
   ],
   "source": [
    "fun()"
   ]
  },
  {
   "cell_type": "code",
   "execution_count": 10,
   "id": "311c7d24-c6b3-481d-be11-708ad9edda58",
   "metadata": {},
   "outputs": [
    {
     "name": "stdout",
     "output_type": "stream",
     "text": [
      "{1, 4, 9, 16, 25}\n"
     ]
    }
   ],
   "source": [
    "def function(a):\n",
    "    return a*a\n",
    "\n",
    "number = map(function, (1,2,3,4,5))\n",
    "\n",
    "print(set(number))"
   ]
  },
  {
   "cell_type": "code",
   "execution_count": 16,
   "id": "b54c8322-0c23-4a08-9b58-8c55c9aaec09",
   "metadata": {},
   "outputs": [
    {
     "name": "stdout",
     "output_type": "stream",
     "text": [
      "HEARTLY WELCOME TO MY COLLEGE"
     ]
    }
   ],
   "source": [
    "def mymap(s):\n",
    "    return s.title()\n",
    "dialougue = \"heartly welcome to my college\"\n",
    "quotes = map(mymap, dialougue)\n",
    "\n",
    "for i in quotes:\n",
    "    print(i, end= \"\")"
   ]
  },
  {
   "cell_type": "code",
   "execution_count": 27,
   "id": "c86400bc-8159-4b3c-a512-8474306a8db7",
   "metadata": {},
   "outputs": [],
   "source": [
    "numbers = [\"sagar\", \"abhi\", \"raghu\", \"chetan\", \"manu\", \"nikhil\"]"
   ]
  },
  {
   "cell_type": "code",
   "execution_count": 32,
   "id": "f24f2318-34cd-4a6d-b6da-3c5bfc7ac0d7",
   "metadata": {},
   "outputs": [
    {
     "name": "stdout",
     "output_type": "stream",
     "text": [
      "['sagar', 'raghu'] ['abhi', 'chetan', 'manu', 'nikhil']\n"
     ]
    }
   ],
   "source": [
    "newlist1 = []\n",
    "newlist2 = []\n",
    "\n",
    "for x in numbers:\n",
    "    if \"g\" in x:\n",
    "        newlist1.append(x)\n",
    "    else:\n",
    "        newlist2.append(x)\n",
    "print(newlist1, newlist2)     "
   ]
  },
  {
   "cell_type": "code",
   "execution_count": 36,
   "id": "205dbfa9-9161-413a-a42d-9ad3d5337825",
   "metadata": {},
   "outputs": [
    {
     "data": {
      "text/plain": [
       "['sagar', 'raghu']"
      ]
     },
     "execution_count": 36,
     "metadata": {},
     "output_type": "execute_result"
    }
   ],
   "source": [
    "newlist = [x for x in numbers if \"g\" in x]\n",
    "\n",
    "newlist"
   ]
  },
  {
   "cell_type": "code",
   "execution_count": 38,
   "id": "2a643ed3-edaa-4cf4-898d-092f00a4525e",
   "metadata": {},
   "outputs": [
    {
     "data": {
      "text/plain": [
       "[0, 1, 2, 3, 4, 5, 6, 7, 8, 9]"
      ]
     },
     "execution_count": 38,
     "metadata": {},
     "output_type": "execute_result"
    }
   ],
   "source": [
    "newlist = [x for x in range(10)]\n",
    "newlist"
   ]
  },
  {
   "cell_type": "code",
   "execution_count": 40,
   "id": "22c25738-78ff-4c76-bd0b-90c2928f08bd",
   "metadata": {},
   "outputs": [
    {
     "data": {
      "text/plain": [
       "[10, 12, 14, 16, 18]"
      ]
     },
     "execution_count": 40,
     "metadata": {},
     "output_type": "execute_result"
    }
   ],
   "source": [
    "newlist = [x for x in range(10,20) if x%2==0]\n",
    "newlist"
   ]
  },
  {
   "cell_type": "code",
   "execution_count": 3,
   "id": "d398913b-1758-447d-a788-09c3e5071cbb",
   "metadata": {},
   "outputs": [
    {
     "name": "stdout",
     "output_type": "stream",
     "text": [
      "True\n",
      "False\n",
      "False\n"
     ]
    }
   ],
   "source": [
    "number = lambda y : y > 50 and y < 200\n",
    "print(number(90))\n",
    "print(number(30))\n",
    "print(number(201))"
   ]
  },
  {
   "cell_type": "code",
   "execution_count": 6,
   "id": "0b962557-224d-432a-a06c-2c54e6adb4f8",
   "metadata": {},
   "outputs": [
    {
     "name": "stdout",
     "output_type": "stream",
     "text": [
      "True\n",
      "False\n"
     ]
    }
   ],
   "source": [
    "number = lambda y: y >10\n",
    "print(number(100))\n",
    "print(number(6))"
   ]
  },
  {
   "cell_type": "code",
   "execution_count": 8,
   "id": "9040bb15-99ea-4424-b445-7ac69391595f",
   "metadata": {},
   "outputs": [
    {
     "data": {
      "text/plain": [
       "10.2"
      ]
     },
     "execution_count": 8,
     "metadata": {},
     "output_type": "execute_result"
    }
   ],
   "source": [
    "adding = lambda x,y:x+y\n",
    "adding(5.2,5)"
   ]
  },
  {
   "cell_type": "code",
   "execution_count": 12,
   "id": "5eaf3409-eead-4d3b-a9f5-4a321c61c979",
   "metadata": {},
   "outputs": [
    {
     "name": "stdout",
     "output_type": "stream",
     "text": [
      "Old\n",
      "Even\n"
     ]
    }
   ],
   "source": [
    "number = lambda a : \"Even\" if a%2==0 else \"Old\"\n",
    "print(number(19))\n",
    "print(number(20))"
   ]
  },
  {
   "cell_type": "code",
   "execution_count": 19,
   "id": "9a5e7bd9-6c9c-44ca-b418-a34369d9efce",
   "metadata": {},
   "outputs": [
    {
     "name": "stdout",
     "output_type": "stream",
     "text": [
      "[10, 9, 8, 7, 6, 5, 4, 3, 2, 1]\n",
      "[30, 27, 24, 21, 18, 15, 12, 9, 6, 3]\n"
     ]
    }
   ],
   "source": [
    "number = [10, 9, 8, 7 ,6 , 5, 4, 3, 2, 1]\n",
    "print(number)\n",
    "\n",
    "double_num = list(map(lambda x : x * 3, number))\n",
    "print(double_num)"
   ]
  },
  {
   "cell_type": "code",
   "execution_count": 20,
   "id": "ca39a239-cd09-429f-885d-cf432e02c4b6",
   "metadata": {},
   "outputs": [
    {
     "name": "stdout",
     "output_type": "stream",
     "text": [
      "['so', 'no']\n"
     ]
    }
   ],
   "source": [
    "def st(s):\n",
    "    return s[-1] == 'o'             # function to check last character match\n",
    "\n",
    "f = ['as','an','in','it','the','so','no','yes']\n",
    "filter_object = filter(st, f)\n",
    "\n",
    "print(list(filter_object))"
   ]
  },
  {
   "cell_type": "code",
   "execution_count": 23,
   "id": "0725e9f2-c1fe-41eb-9ad0-21b1b4a454b0",
   "metadata": {},
   "outputs": [
    {
     "name": "stdout",
     "output_type": "stream",
     "text": [
      "['as', 'an']\n"
     ]
    }
   ],
   "source": [
    "st = lambda a: a[0] == \"a\"           # function to check last character match\n",
    "\n",
    "f = ['as','an','in','it','the','so','no','yes']\n",
    "filter_object = filter(st, f)\n",
    "\n",
    "print(list(filter_object))"
   ]
  },
  {
   "cell_type": "code",
   "execution_count": 24,
   "id": "2ed5472f-1f46-474b-b373-8f966b805a70",
   "metadata": {},
   "outputs": [
    {
     "name": "stdout",
     "output_type": "stream",
     "text": [
      "['as', 'an']\n"
     ]
    }
   ],
   "source": [
    "f = ['as','an','in','it','the','so','no','yes']\n",
    "filter_object = filter(lambda a: a[0] == \"a\", f)\n",
    "\n",
    "print(list(filter_object))"
   ]
  },
  {
   "cell_type": "code",
   "execution_count": 27,
   "id": "3d14d5be-b134-4320-8707-06d05fb22798",
   "metadata": {},
   "outputs": [
    {
     "name": "stdout",
     "output_type": "stream",
     "text": [
      "6 7 8 9 10 11 "
     ]
    }
   ],
   "source": [
    "def sum(a):\n",
    "    c = a+5\n",
    "    return c\n",
    "\n",
    "#Let us pass this user defined function to list in Python and analyze the result further.\n",
    "\n",
    "a = [1,2,3,4,5,6]\n",
    "\n",
    "for x in a:\n",
    "    print(sum(x),end=\" \")"
   ]
  },
  {
   "cell_type": "code",
   "execution_count": 37,
   "id": "336efed3-cfe2-4afa-adae-cb9a0fbfc466",
   "metadata": {},
   "outputs": [
    {
     "name": "stdout",
     "output_type": "stream",
     "text": [
      "Even\n",
      "Odd\n",
      "Odd\n",
      "Even\n",
      "Even\n",
      "Odd\n",
      "Odd\n",
      "Even\n",
      "Odd\n",
      "Even\n",
      "Odd\n",
      "Even\n"
     ]
    }
   ],
   "source": [
    "number = [54,67,35,72,82,91,33,22,11,88,77,46]\n",
    "def even_nu(x):\n",
    "    if x%2==0:\n",
    "        print(\"Even\")\n",
    "    else:\n",
    "        print(\"Odd\")\n",
    "for i in number:\n",
    "    even_nu(i)"
   ]
  },
  {
   "cell_type": "code",
   "execution_count": 38,
   "id": "3e4e9bf8-338e-4b47-972e-8c4ed85e0540",
   "metadata": {},
   "outputs": [],
   "source": [
    "def concatenate_num_nd_string(local_number, local_string):\n",
    "    local_variable = local_string+\" \"+str(local_number)\n",
    "    return local_variable"
   ]
  },
  {
   "cell_type": "code",
   "execution_count": 41,
   "id": "a8584066-d1b8-4a34-b6ed-2db2940865fe",
   "metadata": {},
   "outputs": [
    {
     "data": {
      "text/plain": [
       "'karjagi sagar'"
      ]
     },
     "execution_count": 41,
     "metadata": {},
     "output_type": "execute_result"
    }
   ],
   "source": [
    "concatenate_num_nd_string('sagar','karjagi')"
   ]
  },
  {
   "cell_type": "code",
   "execution_count": null,
   "id": "c49f0651-3771-43a8-9d78-fc23e60297ce",
   "metadata": {},
   "outputs": [],
   "source": []
  }
 ],
 "metadata": {
  "kernelspec": {
   "display_name": "Python 3 (ipykernel)",
   "language": "python",
   "name": "python3"
  },
  "language_info": {
   "codemirror_mode": {
    "name": "ipython",
    "version": 3
   },
   "file_extension": ".py",
   "mimetype": "text/x-python",
   "name": "python",
   "nbconvert_exporter": "python",
   "pygments_lexer": "ipython3",
   "version": "3.11.7"
  }
 },
 "nbformat": 4,
 "nbformat_minor": 5
}
